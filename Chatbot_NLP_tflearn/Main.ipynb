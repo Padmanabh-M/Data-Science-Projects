{
 "cells": [
  {
   "cell_type": "code",
   "execution_count": 1,
   "id": "8e30b6c3",
   "metadata": {},
   "outputs": [],
   "source": [
    "import nltk\n",
    "from nltk.stem.lancaster import LancasterStemmer\n",
    "stemmer = LancasterStemmer()"
   ]
  },
  {
   "cell_type": "code",
   "execution_count": 2,
   "id": "f68f1922",
   "metadata": {},
   "outputs": [
    {
     "name": "stdout",
     "output_type": "stream",
     "text": [
      "WARNING:tensorflow:From D:\\Python\\lib\\site-packages\\tensorflow\\python\\compat\\v2_compat.py:107: disable_resource_variables (from tensorflow.python.ops.variable_scope) is deprecated and will be removed in a future version.\n",
      "Instructions for updating:\n",
      "non-resource variables are not supported in the long term\n",
      "curses is not supported on this machine (please install/reinstall curses for an optimal experience)\n"
     ]
    }
   ],
   "source": [
    "import numpy as np\n",
    "import tflearn  #TFlearn is a modular and transparent deep learning library\n",
    "                # built on top of Tensorflow. It was designed to provide a higher-level\n",
    "                # API to TensorFlow in order to facilitate and speed-up experimentations,\n",
    "                # while remaining fully transparent and compatible with it.\n",
    "\n",
    "import tensorflow\n",
    "import random\n",
    "import json\n",
    "import pickle"
   ]
  },
  {
   "cell_type": "code",
   "execution_count": 3,
   "id": "90fd3e62",
   "metadata": {},
   "outputs": [
    {
     "name": "stdout",
     "output_type": "stream",
     "text": [
      "{'intents': [{'tag': 'greeting', 'patterns': ['Hi', 'How are you', 'Is anyone there?', 'Hello', 'Good day', 'Whats up'], 'responses': ['Hello!', 'Good to see you again!', 'Hi there, how can I help?'], 'context_set': ''}, {'tag': 'goodbye', 'patterns': ['cya', 'See you later', 'Goodbye', 'I am Leaving', 'Have a Good day'], 'responses': ['Sad to see you go :(', 'Talk to you later', 'Goodbye!'], 'context_set': ''}, {'tag': 'age', 'patterns': ['how old', 'how old is tim', 'what is your age', 'how old are you', 'age?'], 'responses': ['I am 18 years old!', '18 years young!'], 'context_set': ''}, {'tag': 'name', 'patterns': ['what is your name', 'what should I call you', 'whats your name?'], 'responses': ['You can call me Tim.', \"I'm Tim!\", \"I'm Tim aka Tech With Tim.\"], 'context_set': ''}, {'tag': 'shop', 'patterns': ['Id like to buy something', 'whats on the menu', 'what do you reccommend?', 'could i get something to eat'], 'responses': ['We sell chocolate chip cookies for $2!', 'Cookies are on the menu!'], 'context_set': ''}, {'tag': 'hours', 'patterns': ['when are you guys open', 'what are your hours', 'hours of operation'], 'responses': ['We are open 7am-4pm Monday-Friday!'], 'context_set': ''}]}\n"
     ]
    }
   ],
   "source": [
    "# Using json to read file\n",
    "with open(\"intents.json\") as file:\n",
    "    data = json.load(file)\n",
    "    \n",
    "print(data)"
   ]
  },
  {
   "cell_type": "code",
   "execution_count": 4,
   "id": "ec36f8de",
   "metadata": {},
   "outputs": [
    {
     "name": "stdout",
     "output_type": "stream",
     "text": [
      "[{'tag': 'greeting', 'patterns': ['Hi', 'How are you', 'Is anyone there?', 'Hello', 'Good day', 'Whats up'], 'responses': ['Hello!', 'Good to see you again!', 'Hi there, how can I help?'], 'context_set': ''}, {'tag': 'goodbye', 'patterns': ['cya', 'See you later', 'Goodbye', 'I am Leaving', 'Have a Good day'], 'responses': ['Sad to see you go :(', 'Talk to you later', 'Goodbye!'], 'context_set': ''}, {'tag': 'age', 'patterns': ['how old', 'how old is tim', 'what is your age', 'how old are you', 'age?'], 'responses': ['I am 18 years old!', '18 years young!'], 'context_set': ''}, {'tag': 'name', 'patterns': ['what is your name', 'what should I call you', 'whats your name?'], 'responses': ['You can call me Tim.', \"I'm Tim!\", \"I'm Tim aka Tech With Tim.\"], 'context_set': ''}, {'tag': 'shop', 'patterns': ['Id like to buy something', 'whats on the menu', 'what do you reccommend?', 'could i get something to eat'], 'responses': ['We sell chocolate chip cookies for $2!', 'Cookies are on the menu!'], 'context_set': ''}, {'tag': 'hours', 'patterns': ['when are you guys open', 'what are your hours', 'hours of operation'], 'responses': ['We are open 7am-4pm Monday-Friday!'], 'context_set': ''}]\n"
     ]
    }
   ],
   "source": [
    "# The list inside the intents dictionary...\n",
    "print(data['intents'])"
   ]
  },
  {
   "cell_type": "markdown",
   "id": "78650524",
   "metadata": {},
   "source": [
    "# Preprocessing"
   ]
  },
  {
   "cell_type": "code",
   "execution_count": 5,
   "id": "2f07ce79",
   "metadata": {},
   "outputs": [],
   "source": [
    "# We need get all the patterns and figure out what group (tag) they are in...\n",
    "\n",
    "try:\n",
    "    with open('data.pickle', 'rb') as f:\n",
    "        words, labels, training, output = pickle.load(f)\n",
    "    \n",
    "except:\n",
    "    words = []\n",
    "\n",
    "    labels = []\n",
    "\n",
    "    docs_x = []\n",
    "\n",
    "    docs_y = []\n",
    "\n",
    "    for intent in data['intents']:\n",
    "        # we need to tokenize (split by space) and stem (root wordize) patterns...\n",
    "        for pattern in intent['patterns']:\n",
    "            # Tokenizing...\n",
    "            wrds = nltk.word_tokenize(pattern) #returns list with all different words in that pattern\n",
    "\n",
    "            words.extend(wrds) # words holds ['How', 'are', 'you', 'Is', 'anyone', 'there', '?'.........]\n",
    "\n",
    "            docs_x.append(wrds) # [ ['Hi'], ['How', 'are', 'you'], ['Is', 'anyone', 'there', '?'].........]\n",
    "\n",
    "            docs_y.append(intent['tag']) # docs_y holds ['greetings', 'greetings' x 5, 'goodbye' x 5  ....]\n",
    "                                         # ..to classify each one of our patterns...\n",
    "\n",
    "            if intent['tag'] not in labels:\n",
    "                labels.append(intent['tag'])\n",
    "\n",
    "\n",
    "    # Stem all the words from the words list and remove any duplicate elements so that we can figure out the \n",
    "    # vocabulary size of the model...(How many words it has seen already)\n",
    "\n",
    "    words = [stemmer.stem(w.lower()) for w in words if w != \"?\"] # [ 'hi', 'how', 'ar', 'you', 'is', 'anyon', 'ther', '?', 'hello', 'good', 'day', .........]\n",
    "\n",
    "    words = sorted(list(set(words)))\n",
    "\n",
    "    labels = sorted(labels) # ['greeting', 'goodbye', 'age', 'name', 'shop', 'hours']\n",
    "\n",
    "\n",
    "\n",
    "    # Neural networks only understand numbers....\n",
    "    training = []\n",
    "    output = []\n",
    "\n",
    "\n",
    "\n",
    "    # Final output....class lighter\n",
    "    out_empty = [0 for _ in range(len(labels))]\n",
    "\n",
    "\n",
    "    # Creating bag of words...\n",
    "    for x, doc in enumerate(docs_x): # docs_x holds [ ['Hi'], ['How', 'are', 'you'], ['Is', 'anyone', 'there', '?'].........]\n",
    "        bag = []\n",
    "\n",
    "        wrds = [stemmer.stem(w.lower()) for w  in doc] # doc holds ['How', 'are', 'you']\n",
    "                            #  Word-bag example....\n",
    "        for w in words:     #  words holds ['how', 'ar', 'you', 'is', 'anyon', 'ther', '?', 'hello', 'good', 'day', .........]\n",
    "            if w in wrds:    #  wrds holds ['how', 'ar', 'you']\n",
    "                bag.append(1) #  bag value [1    ,  1  ,  1,    0   , 0      ,   0   ,  0 ,  0     ,  0    ,  0   , ......]\n",
    "            else:\n",
    "                bag.append(0)\n",
    "\n",
    "        output_row = out_empty[:]  # out_empty = [0,0,0,0,0,0] as many tags/labels...\n",
    "                                                  # Example...\n",
    "        output_row[labels.index(docs_y[x])] = 1   # ['age', 'goodbye', 'greeting', 'hours', 'name', 'shop']\n",
    "                                                  # [0,0,1,0,0,0]\n",
    "\n",
    "        training.append(bag)\n",
    "        output.append(output_row)\n",
    "        \n",
    "        with open('data.pickle', 'wb') as f:\n",
    "            pickle.dump((words, labels, training, output), f )\n",
    "\n",
    "\n",
    "    training = np.array(training)\n",
    "    output = np.array(output)"
   ]
  },
  {
   "cell_type": "markdown",
   "id": "bc8b749f",
   "metadata": {},
   "source": [
    "# Training the model"
   ]
  },
  {
   "cell_type": "code",
   "execution_count": 6,
   "id": "a293cfe3",
   "metadata": {},
   "outputs": [
    {
     "name": "stdout",
     "output_type": "stream",
     "text": [
      "WARNING:tensorflow:From D:\\Python\\lib\\site-packages\\tflearn\\initializations.py:164: calling TruncatedNormal.__init__ (from tensorflow.python.ops.init_ops) with dtype is deprecated and will be removed in a future version.\n",
      "Instructions for updating:\n",
      "Call initializer instance with the dtype argument instead of passing it to the constructor\n",
      "INFO:tensorflow:Restoring parameters from E:\\SaveFiles\\Anacosave\\ChatbotTim\\model.tflearn\n"
     ]
    }
   ],
   "source": [
    "tensorflow.compat.v1.reset_default_graph()\n",
    "\n",
    "net = tflearn.input_data(shape=[None, len(training[0])])\n",
    "\n",
    "net = tflearn.fully_connected(net, 8)\n",
    "\n",
    "net = tflearn.fully_connected(net, 8)\n",
    "\n",
    "net = tflearn.fully_connected(net, len(output[0]), activation=\"softmax\")\n",
    "\n",
    "net = tflearn.regression(net)\n",
    "\n",
    "model = tflearn.DNN(net)\n",
    "\n",
    "try:\n",
    "    model.load(\"model.tflearn\")\n",
    "    \n",
    "except:\n",
    "    model.fit(training, output, n_epoch=1000, batch_size=8, show_metric=True)\n",
    "    model.save(\"model.tflearn\")"
   ]
  },
  {
   "cell_type": "markdown",
   "id": "93eb5951",
   "metadata": {},
   "source": [
    "# Testing Functions..."
   ]
  },
  {
   "cell_type": "code",
   "execution_count": 18,
   "id": "0dad9ea2",
   "metadata": {},
   "outputs": [
    {
     "name": "stdout",
     "output_type": "stream",
     "text": [
      "Start talking with the bot! (Type quit to stop)\n",
      "You: hey, how YOU doin?\n",
      "Hello!\n",
      "You: you do remember me right?\n",
      "Wait what.....?\n",
      "You: goodbye\n",
      "Talk to you later\n",
      "You: quit\n"
     ]
    }
   ],
   "source": [
    "def bag_of_words(s, words):\n",
    "    bag = [0 for _ in range(len(words))]\n",
    "    \n",
    "    s_words = nltk.word_tokenize(s)\n",
    "    s_words = [stemmer.stem(word.lower()) for word in s_words]\n",
    "    \n",
    "    for se in s_words:\n",
    "        for i, w in enumerate(words):\n",
    "            if w == se:\n",
    "                bag[i] = 1\n",
    "                \n",
    "    return np.array(bag)\n",
    "                \n",
    "                \n",
    "def chat():\n",
    "    print('Start talking with the bot! (Type quit to stop)')\n",
    "    while True:\n",
    "        inp = input(\"You: \")\n",
    "        if inp.lower() == \"quit\":\n",
    "            break\n",
    "        \n",
    "        results = model.predict([bag_of_words(inp, words)])[0]\n",
    "        \n",
    "        results_index = np.argmax(results)\n",
    "        \n",
    "        tag = labels[results_index]\n",
    "        \n",
    "        if results[results_index] > 0.6:\n",
    "        \n",
    "            for tg in data['intents']:\n",
    "                if tag == tg['tag']:\n",
    "                    responses = tg['responses']\n",
    "                    \n",
    "            print(random.choice(responses))\n",
    "                    \n",
    "        else:\n",
    "            print('Wait what.....?')      \n",
    "        \n",
    "        \n",
    "        \n",
    "chat()"
   ]
  },
  {
   "cell_type": "code",
   "execution_count": null,
   "id": "bfe9eca2",
   "metadata": {},
   "outputs": [],
   "source": []
  }
 ],
 "metadata": {
  "kernelspec": {
   "display_name": "Python 3 (ipykernel)",
   "language": "python",
   "name": "python3"
  },
  "language_info": {
   "codemirror_mode": {
    "name": "ipython",
    "version": 3
   },
   "file_extension": ".py",
   "mimetype": "text/x-python",
   "name": "python",
   "nbconvert_exporter": "python",
   "pygments_lexer": "ipython3",
   "version": "3.9.6"
  }
 },
 "nbformat": 4,
 "nbformat_minor": 5
}
